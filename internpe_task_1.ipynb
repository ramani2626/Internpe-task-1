{
  "nbformat": 4,
  "nbformat_minor": 0,
  "metadata": {
    "colab": {
      "provenance": []
    },
    "kernelspec": {
      "name": "python3",
      "display_name": "Python 3"
    },
    "language_info": {
      "name": "python"
    }
  },
  "cells": [
    {
      "cell_type": "markdown",
      "source": [
        "TICTOCTOE Game using python"
      ],
      "metadata": {
        "id": "AgprnZ3ZbtHl"
      }
    },
    {
      "cell_type": "code",
      "source": [
        "import random"
      ],
      "metadata": {
        "id": "iqd0fyagbpWH"
      },
      "execution_count": null,
      "outputs": []
    },
    {
      "cell_type": "code",
      "source": [
        "board = [\"-\", \"-\", \"-\",\n",
        "        \"-\", \"-\", \"-\",\n",
        "        \"-\", \"-\", \"-\"]\n",
        "currentPlayer = \"X\"\n",
        "winner = None\n",
        "gameRunning = True\n"
      ],
      "metadata": {
        "id": "e0DgaL34Z_rB"
      },
      "execution_count": 2,
      "outputs": []
    },
    {
      "cell_type": "code",
      "source": [
        "def printBoard(board):\n",
        "    print(board[0] + \" | \" + board[1] + \" | \" + board[2])\n",
        "    print(\"---------\")\n",
        "    print(board[3] + \" | \" + board[4] + \" | \" + board[5])\n",
        "    print(\"---------\")\n",
        "    print(board[6] + \" | \" + board[7] + \" | \" + board[8])\n",
        "\n",
        "\n"
      ],
      "metadata": {
        "id": "dVb6b4uzaFmK"
      },
      "execution_count": 3,
      "outputs": []
    },
    {
      "cell_type": "code",
      "source": [
        "def playerInput(board):\n",
        "    inp = int(input(\"Select a spot from 1-9: \"))\n",
        "    if board[inp-1] == \"-\":\n",
        "        board[inp-1] = currentPlayer\n",
        "    else:\n",
        "        print(\"Oops player is already at that spot.\")\n"
      ],
      "metadata": {
        "id": "hs929TFwaKhc"
      },
      "execution_count": 4,
      "outputs": []
    },
    {
      "cell_type": "code",
      "source": [
        "\n",
        "def checkHorizontle(board):\n",
        "    global winner\n",
        "    if board[0] == board[1] == board[2] and board[0] != \"-\":\n",
        "        winner = board[0]\n",
        "        return True\n",
        "    elif board[3] == board[4] == board[5] and board[3] != \"-\":\n",
        "        winner = board[3]\n",
        "        return True\n",
        "    elif board[6] == board[7] == board[8] and board[6] != \"-\":\n",
        "        winner = board[6]\n",
        "        return True\n"
      ],
      "metadata": {
        "id": "ussEVGEiaP0m"
      },
      "execution_count": 5,
      "outputs": []
    },
    {
      "cell_type": "code",
      "source": [
        "def checkRow(board):\n",
        "    global winner\n",
        "    if board[0] == board[3] == board[6] and board[0] != \"-\":\n",
        "        winner = board[0]\n",
        "        return True\n",
        "    elif board[1] == board[4] == board[7] and board[1] != \"-\":\n",
        "        winner = board[1]\n",
        "        return True\n",
        "    elif board[2] == board[5] == board[8] and board[2] != \"-\":\n",
        "        winner = board[3]\n",
        "        return True\n"
      ],
      "metadata": {
        "id": "X4khDXq_abfQ"
      },
      "execution_count": 6,
      "outputs": []
    },
    {
      "cell_type": "code",
      "source": [
        "def checkDiag(board):\n",
        "    global winner\n",
        "    if board[0] == board[4] == board[8] and board[0] != \"-\":\n",
        "        winner = board[0]\n",
        "        return True\n",
        "    elif board[2] == board[4] == board[6] and board[4] != \"-\":\n",
        "        winner = board[2]\n",
        "        return True\n"
      ],
      "metadata": {
        "id": "p85u6UKNagW_"
      },
      "execution_count": 7,
      "outputs": []
    },
    {
      "cell_type": "code",
      "source": [
        "def checkIfWin(board):\n",
        "    global gameRunning\n",
        "    if checkHorizontle(board):\n",
        "        printBoard(board)\n",
        "        print(f\" winner is {winner}!\")\n",
        "        gameRunning = False\n",
        "\n",
        "    elif checkRow(board):\n",
        "        printBoard(board)\n",
        "        print(f\" winner is {winner}!\")\n",
        "        gameRunning = False\n",
        "\n",
        "    elif checkDiag(board):\n",
        "        printBoard(board)\n",
        "        print(f\" winner is {winner}!\")\n",
        "        gameRunning = False"
      ],
      "metadata": {
        "id": "AuSwJ0xyak3m"
      },
      "execution_count": 8,
      "outputs": []
    },
    {
      "cell_type": "code",
      "source": [
        "def checkIfTie(board):\n",
        "    global gameRunning\n",
        "    if \"-\" not in board:\n",
        "        printBoard(board)\n",
        "        print(\"It is a tie!\")\n",
        "        gameRunning = False\n"
      ],
      "metadata": {
        "id": "6FEf5rPPaqNX"
      },
      "execution_count": 9,
      "outputs": []
    },
    {
      "cell_type": "code",
      "source": [
        "def switchPlayer():\n",
        "    global currentPlayer\n",
        "    if currentPlayer == \"X\":\n",
        "        currentPlayer = \"O\"\n",
        "    else:\n",
        "        currentPlayer = \"X\"\n",
        "\n"
      ],
      "metadata": {
        "id": "HamFeH0Pav6v"
      },
      "execution_count": 10,
      "outputs": []
    },
    {
      "cell_type": "code",
      "source": [
        "def computer(board):\n",
        "    while currentPlayer == \"O\":\n",
        "        position = random.randint(0, 8)\n",
        "        if board[position] == \"-\":\n",
        "            board[position] = \"O\"\n",
        "            switchPlayer()\n",
        "\n",
        "\n",
        "while gameRunning:\n",
        "    printBoard(board)\n",
        "    playerInput(board)\n",
        "    checkIfWin(board)\n",
        "    checkIfTie(board)\n",
        "    switchPlayer()\n",
        "    computer(board)\n",
        "    checkIfWin(board)\n",
        "    checkIfTie(board)"
      ],
      "metadata": {
        "colab": {
          "base_uri": "https://localhost:8080/"
        },
        "id": "qrHaB9hCa4No",
        "outputId": "427836f9-2e4a-4a3f-eaa4-7a339519015b"
      },
      "execution_count": 11,
      "outputs": [
        {
          "output_type": "stream",
          "name": "stdout",
          "text": [
            "- | - | -\n",
            "---------\n",
            "- | - | -\n",
            "---------\n",
            "- | - | -\n",
            "Select a spot from 1-9: 6\n",
            "- | - | O\n",
            "---------\n",
            "- | - | X\n",
            "---------\n",
            "- | - | -\n",
            "Select a spot from 1-9: 4\n",
            "- | - | O\n",
            "---------\n",
            "X | - | X\n",
            "---------\n",
            "- | O | -\n",
            "Select a spot from 1-9: 5\n",
            "- | - | O\n",
            "---------\n",
            "X | X | X\n",
            "---------\n",
            "- | O | -\n",
            " winner is X!\n",
            "O | - | O\n",
            "---------\n",
            "X | X | X\n",
            "---------\n",
            "- | O | -\n",
            " winner is X!\n"
          ]
        }
      ]
    },
    {
      "cell_type": "code",
      "source": [],
      "metadata": {
        "id": "xW5iXVotbhvr"
      },
      "execution_count": null,
      "outputs": []
    }
  ]
}